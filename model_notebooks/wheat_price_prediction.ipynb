{
  "nbformat": 4,
  "nbformat_minor": 0,
  "metadata": {
    "colab": {
      "provenance": [],
      "collapsed_sections": []
    },
    "kernelspec": {
      "name": "python3",
      "display_name": "Python 3"
    },
    "language_info": {
      "name": "python"
    }
  },
  "cells": [
    {
      "cell_type": "code",
      "execution_count": 9,
      "metadata": {
        "colab": {
          "base_uri": "https://localhost:8080/"
        },
        "id": "P8WmvR1VxDHW",
        "outputId": "f116f358-9151-472d-b3bb-fccb7c17d492"
      },
      "outputs": [
        {
          "output_type": "execute_result",
          "data": {
            "text/plain": [
              "(24, 7)"
            ]
          },
          "metadata": {},
          "execution_count": 9
        }
      ],
      "source": [
        "import tensorflow as tf\n",
        "import pandas as pd\n",
        "\n",
        "csv_path='/content/wheat_price.csv'\n",
        "\n",
        "data = pd.read_csv(csv_path)\n",
        "data.shape"
      ]
    },
    {
      "cell_type": "code",
      "source": [
        "data.describe()"
      ],
      "metadata": {
        "colab": {
          "base_uri": "https://localhost:8080/",
          "height": 300
        },
        "id": "bgQfP9rO_pGw",
        "outputId": "e5e5aa1f-1740-48ee-f8eb-88fc332516bf"
      },
      "execution_count": 10,
      "outputs": [
        {
          "output_type": "execute_result",
          "data": {
            "text/plain": [
              "              year  average_temperature     rainfall  crude_oil_price  \\\n",
              "count    24.000000            24.000000    24.000000        24.000000   \n",
              "mean   2009.500000            24.920000  1119.125417        57.414167   \n",
              "std       7.071068             0.263802    96.845977        26.383435   \n",
              "min    1998.000000            24.190000   908.100000        14.420000   \n",
              "25%    2003.750000            24.785000  1051.147500        37.530000   \n",
              "50%    2009.500000            24.925000  1121.340000        56.815000   \n",
              "75%    2015.250000            25.012500  1187.720000        74.125000   \n",
              "max    2021.000000            25.480000  1320.910000        99.670000   \n",
              "\n",
              "       wheat_production  inflation  wheat_price  \n",
              "count         24.000000  24.000000    24.000000  \n",
              "mean       83845.333333   6.405000  1106.041667  \n",
              "std        13747.181399   2.987325   497.143972  \n",
              "min        65761.000000   3.330000   475.000000  \n",
              "25%        71939.000000   3.992500   620.000000  \n",
              "50%        80741.500000   5.040000  1090.000000  \n",
              "75%        95124.000000   8.477500  1468.750000  \n",
              "max       109586.000000  13.230000  1975.000000  "
            ],
            "text/html": [
              "\n",
              "  <div id=\"df-c08985b0-b12f-4b23-b114-20e522a33125\">\n",
              "    <div class=\"colab-df-container\">\n",
              "      <div>\n",
              "<style scoped>\n",
              "    .dataframe tbody tr th:only-of-type {\n",
              "        vertical-align: middle;\n",
              "    }\n",
              "\n",
              "    .dataframe tbody tr th {\n",
              "        vertical-align: top;\n",
              "    }\n",
              "\n",
              "    .dataframe thead th {\n",
              "        text-align: right;\n",
              "    }\n",
              "</style>\n",
              "<table border=\"1\" class=\"dataframe\">\n",
              "  <thead>\n",
              "    <tr style=\"text-align: right;\">\n",
              "      <th></th>\n",
              "      <th>year</th>\n",
              "      <th>average_temperature</th>\n",
              "      <th>rainfall</th>\n",
              "      <th>crude_oil_price</th>\n",
              "      <th>wheat_production</th>\n",
              "      <th>inflation</th>\n",
              "      <th>wheat_price</th>\n",
              "    </tr>\n",
              "  </thead>\n",
              "  <tbody>\n",
              "    <tr>\n",
              "      <th>count</th>\n",
              "      <td>24.000000</td>\n",
              "      <td>24.000000</td>\n",
              "      <td>24.000000</td>\n",
              "      <td>24.000000</td>\n",
              "      <td>24.000000</td>\n",
              "      <td>24.000000</td>\n",
              "      <td>24.000000</td>\n",
              "    </tr>\n",
              "    <tr>\n",
              "      <th>mean</th>\n",
              "      <td>2009.500000</td>\n",
              "      <td>24.920000</td>\n",
              "      <td>1119.125417</td>\n",
              "      <td>57.414167</td>\n",
              "      <td>83845.333333</td>\n",
              "      <td>6.405000</td>\n",
              "      <td>1106.041667</td>\n",
              "    </tr>\n",
              "    <tr>\n",
              "      <th>std</th>\n",
              "      <td>7.071068</td>\n",
              "      <td>0.263802</td>\n",
              "      <td>96.845977</td>\n",
              "      <td>26.383435</td>\n",
              "      <td>13747.181399</td>\n",
              "      <td>2.987325</td>\n",
              "      <td>497.143972</td>\n",
              "    </tr>\n",
              "    <tr>\n",
              "      <th>min</th>\n",
              "      <td>1998.000000</td>\n",
              "      <td>24.190000</td>\n",
              "      <td>908.100000</td>\n",
              "      <td>14.420000</td>\n",
              "      <td>65761.000000</td>\n",
              "      <td>3.330000</td>\n",
              "      <td>475.000000</td>\n",
              "    </tr>\n",
              "    <tr>\n",
              "      <th>25%</th>\n",
              "      <td>2003.750000</td>\n",
              "      <td>24.785000</td>\n",
              "      <td>1051.147500</td>\n",
              "      <td>37.530000</td>\n",
              "      <td>71939.000000</td>\n",
              "      <td>3.992500</td>\n",
              "      <td>620.000000</td>\n",
              "    </tr>\n",
              "    <tr>\n",
              "      <th>50%</th>\n",
              "      <td>2009.500000</td>\n",
              "      <td>24.925000</td>\n",
              "      <td>1121.340000</td>\n",
              "      <td>56.815000</td>\n",
              "      <td>80741.500000</td>\n",
              "      <td>5.040000</td>\n",
              "      <td>1090.000000</td>\n",
              "    </tr>\n",
              "    <tr>\n",
              "      <th>75%</th>\n",
              "      <td>2015.250000</td>\n",
              "      <td>25.012500</td>\n",
              "      <td>1187.720000</td>\n",
              "      <td>74.125000</td>\n",
              "      <td>95124.000000</td>\n",
              "      <td>8.477500</td>\n",
              "      <td>1468.750000</td>\n",
              "    </tr>\n",
              "    <tr>\n",
              "      <th>max</th>\n",
              "      <td>2021.000000</td>\n",
              "      <td>25.480000</td>\n",
              "      <td>1320.910000</td>\n",
              "      <td>99.670000</td>\n",
              "      <td>109586.000000</td>\n",
              "      <td>13.230000</td>\n",
              "      <td>1975.000000</td>\n",
              "    </tr>\n",
              "  </tbody>\n",
              "</table>\n",
              "</div>\n",
              "      <button class=\"colab-df-convert\" onclick=\"convertToInteractive('df-c08985b0-b12f-4b23-b114-20e522a33125')\"\n",
              "              title=\"Convert this dataframe to an interactive table.\"\n",
              "              style=\"display:none;\">\n",
              "        \n",
              "  <svg xmlns=\"http://www.w3.org/2000/svg\" height=\"24px\"viewBox=\"0 0 24 24\"\n",
              "       width=\"24px\">\n",
              "    <path d=\"M0 0h24v24H0V0z\" fill=\"none\"/>\n",
              "    <path d=\"M18.56 5.44l.94 2.06.94-2.06 2.06-.94-2.06-.94-.94-2.06-.94 2.06-2.06.94zm-11 1L8.5 8.5l.94-2.06 2.06-.94-2.06-.94L8.5 2.5l-.94 2.06-2.06.94zm10 10l.94 2.06.94-2.06 2.06-.94-2.06-.94-.94-2.06-.94 2.06-2.06.94z\"/><path d=\"M17.41 7.96l-1.37-1.37c-.4-.4-.92-.59-1.43-.59-.52 0-1.04.2-1.43.59L10.3 9.45l-7.72 7.72c-.78.78-.78 2.05 0 2.83L4 21.41c.39.39.9.59 1.41.59.51 0 1.02-.2 1.41-.59l7.78-7.78 2.81-2.81c.8-.78.8-2.07 0-2.86zM5.41 20L4 18.59l7.72-7.72 1.47 1.35L5.41 20z\"/>\n",
              "  </svg>\n",
              "      </button>\n",
              "      \n",
              "  <style>\n",
              "    .colab-df-container {\n",
              "      display:flex;\n",
              "      flex-wrap:wrap;\n",
              "      gap: 12px;\n",
              "    }\n",
              "\n",
              "    .colab-df-convert {\n",
              "      background-color: #E8F0FE;\n",
              "      border: none;\n",
              "      border-radius: 50%;\n",
              "      cursor: pointer;\n",
              "      display: none;\n",
              "      fill: #1967D2;\n",
              "      height: 32px;\n",
              "      padding: 0 0 0 0;\n",
              "      width: 32px;\n",
              "    }\n",
              "\n",
              "    .colab-df-convert:hover {\n",
              "      background-color: #E2EBFA;\n",
              "      box-shadow: 0px 1px 2px rgba(60, 64, 67, 0.3), 0px 1px 3px 1px rgba(60, 64, 67, 0.15);\n",
              "      fill: #174EA6;\n",
              "    }\n",
              "\n",
              "    [theme=dark] .colab-df-convert {\n",
              "      background-color: #3B4455;\n",
              "      fill: #D2E3FC;\n",
              "    }\n",
              "\n",
              "    [theme=dark] .colab-df-convert:hover {\n",
              "      background-color: #434B5C;\n",
              "      box-shadow: 0px 1px 3px 1px rgba(0, 0, 0, 0.15);\n",
              "      filter: drop-shadow(0px 1px 2px rgba(0, 0, 0, 0.3));\n",
              "      fill: #FFFFFF;\n",
              "    }\n",
              "  </style>\n",
              "\n",
              "      <script>\n",
              "        const buttonEl =\n",
              "          document.querySelector('#df-c08985b0-b12f-4b23-b114-20e522a33125 button.colab-df-convert');\n",
              "        buttonEl.style.display =\n",
              "          google.colab.kernel.accessAllowed ? 'block' : 'none';\n",
              "\n",
              "        async function convertToInteractive(key) {\n",
              "          const element = document.querySelector('#df-c08985b0-b12f-4b23-b114-20e522a33125');\n",
              "          const dataTable =\n",
              "            await google.colab.kernel.invokeFunction('convertToInteractive',\n",
              "                                                     [key], {});\n",
              "          if (!dataTable) return;\n",
              "\n",
              "          const docLinkHtml = 'Like what you see? Visit the ' +\n",
              "            '<a target=\"_blank\" href=https://colab.research.google.com/notebooks/data_table.ipynb>data table notebook</a>'\n",
              "            + ' to learn more about interactive tables.';\n",
              "          element.innerHTML = '';\n",
              "          dataTable['output_type'] = 'display_data';\n",
              "          await google.colab.output.renderOutput(dataTable, element);\n",
              "          const docLink = document.createElement('div');\n",
              "          docLink.innerHTML = docLinkHtml;\n",
              "          element.appendChild(docLink);\n",
              "        }\n",
              "      </script>\n",
              "    </div>\n",
              "  </div>\n",
              "  "
            ]
          },
          "metadata": {},
          "execution_count": 10
        }
      ]
    },
    {
      "cell_type": "code",
      "source": [
        "data.isnull().sum()"
      ],
      "metadata": {
        "colab": {
          "base_uri": "https://localhost:8080/"
        },
        "id": "Hytt274wAN63",
        "outputId": "04f508e0-f33e-49b2-a995-cc0bf13bd0e9"
      },
      "execution_count": 11,
      "outputs": [
        {
          "output_type": "execute_result",
          "data": {
            "text/plain": [
              "year                   0\n",
              "average_temperature    0\n",
              "rainfall               0\n",
              "crude_oil_price        0\n",
              "wheat_production       0\n",
              "inflation              0\n",
              "wheat_price            0\n",
              "dtype: int64"
            ]
          },
          "metadata": {},
          "execution_count": 11
        }
      ]
    },
    {
      "cell_type": "code",
      "source": [
        "data.corr()"
      ],
      "metadata": {
        "colab": {
          "base_uri": "https://localhost:8080/",
          "height": 269
        },
        "id": "Fwv9fbam_zio",
        "outputId": "94085b42-b2d4-493a-f69f-419e1290d9e8"
      },
      "execution_count": 12,
      "outputs": [
        {
          "output_type": "execute_result",
          "data": {
            "text/plain": [
              "                         year  average_temperature  rainfall  crude_oil_price  \\\n",
              "year                 1.000000             0.305105  0.469755         0.478522   \n",
              "average_temperature  0.305105             1.000000 -0.140069         0.111116   \n",
              "rainfall             0.469755            -0.140069  1.000000         0.325554   \n",
              "crude_oil_price      0.478522             0.111116  0.325554         1.000000   \n",
              "wheat_production     0.927596             0.159466  0.420622         0.418322   \n",
              "inflation           -0.060925            -0.148775  0.313317         0.404088   \n",
              "wheat_price          0.983794             0.249951  0.464747         0.403150   \n",
              "\n",
              "                     wheat_production  inflation  wheat_price  \n",
              "year                         0.927596  -0.060925     0.983794  \n",
              "average_temperature          0.159466  -0.148775     0.249951  \n",
              "rainfall                     0.420622   0.313317     0.464747  \n",
              "crude_oil_price              0.418322   0.404088     0.403150  \n",
              "wheat_production             1.000000  -0.028710     0.962742  \n",
              "inflation                   -0.028710   1.000000    -0.037721  \n",
              "wheat_price                  0.962742  -0.037721     1.000000  "
            ],
            "text/html": [
              "\n",
              "  <div id=\"df-b2b70d47-9cb8-4b52-a235-705dad76aa70\">\n",
              "    <div class=\"colab-df-container\">\n",
              "      <div>\n",
              "<style scoped>\n",
              "    .dataframe tbody tr th:only-of-type {\n",
              "        vertical-align: middle;\n",
              "    }\n",
              "\n",
              "    .dataframe tbody tr th {\n",
              "        vertical-align: top;\n",
              "    }\n",
              "\n",
              "    .dataframe thead th {\n",
              "        text-align: right;\n",
              "    }\n",
              "</style>\n",
              "<table border=\"1\" class=\"dataframe\">\n",
              "  <thead>\n",
              "    <tr style=\"text-align: right;\">\n",
              "      <th></th>\n",
              "      <th>year</th>\n",
              "      <th>average_temperature</th>\n",
              "      <th>rainfall</th>\n",
              "      <th>crude_oil_price</th>\n",
              "      <th>wheat_production</th>\n",
              "      <th>inflation</th>\n",
              "      <th>wheat_price</th>\n",
              "    </tr>\n",
              "  </thead>\n",
              "  <tbody>\n",
              "    <tr>\n",
              "      <th>year</th>\n",
              "      <td>1.000000</td>\n",
              "      <td>0.305105</td>\n",
              "      <td>0.469755</td>\n",
              "      <td>0.478522</td>\n",
              "      <td>0.927596</td>\n",
              "      <td>-0.060925</td>\n",
              "      <td>0.983794</td>\n",
              "    </tr>\n",
              "    <tr>\n",
              "      <th>average_temperature</th>\n",
              "      <td>0.305105</td>\n",
              "      <td>1.000000</td>\n",
              "      <td>-0.140069</td>\n",
              "      <td>0.111116</td>\n",
              "      <td>0.159466</td>\n",
              "      <td>-0.148775</td>\n",
              "      <td>0.249951</td>\n",
              "    </tr>\n",
              "    <tr>\n",
              "      <th>rainfall</th>\n",
              "      <td>0.469755</td>\n",
              "      <td>-0.140069</td>\n",
              "      <td>1.000000</td>\n",
              "      <td>0.325554</td>\n",
              "      <td>0.420622</td>\n",
              "      <td>0.313317</td>\n",
              "      <td>0.464747</td>\n",
              "    </tr>\n",
              "    <tr>\n",
              "      <th>crude_oil_price</th>\n",
              "      <td>0.478522</td>\n",
              "      <td>0.111116</td>\n",
              "      <td>0.325554</td>\n",
              "      <td>1.000000</td>\n",
              "      <td>0.418322</td>\n",
              "      <td>0.404088</td>\n",
              "      <td>0.403150</td>\n",
              "    </tr>\n",
              "    <tr>\n",
              "      <th>wheat_production</th>\n",
              "      <td>0.927596</td>\n",
              "      <td>0.159466</td>\n",
              "      <td>0.420622</td>\n",
              "      <td>0.418322</td>\n",
              "      <td>1.000000</td>\n",
              "      <td>-0.028710</td>\n",
              "      <td>0.962742</td>\n",
              "    </tr>\n",
              "    <tr>\n",
              "      <th>inflation</th>\n",
              "      <td>-0.060925</td>\n",
              "      <td>-0.148775</td>\n",
              "      <td>0.313317</td>\n",
              "      <td>0.404088</td>\n",
              "      <td>-0.028710</td>\n",
              "      <td>1.000000</td>\n",
              "      <td>-0.037721</td>\n",
              "    </tr>\n",
              "    <tr>\n",
              "      <th>wheat_price</th>\n",
              "      <td>0.983794</td>\n",
              "      <td>0.249951</td>\n",
              "      <td>0.464747</td>\n",
              "      <td>0.403150</td>\n",
              "      <td>0.962742</td>\n",
              "      <td>-0.037721</td>\n",
              "      <td>1.000000</td>\n",
              "    </tr>\n",
              "  </tbody>\n",
              "</table>\n",
              "</div>\n",
              "      <button class=\"colab-df-convert\" onclick=\"convertToInteractive('df-b2b70d47-9cb8-4b52-a235-705dad76aa70')\"\n",
              "              title=\"Convert this dataframe to an interactive table.\"\n",
              "              style=\"display:none;\">\n",
              "        \n",
              "  <svg xmlns=\"http://www.w3.org/2000/svg\" height=\"24px\"viewBox=\"0 0 24 24\"\n",
              "       width=\"24px\">\n",
              "    <path d=\"M0 0h24v24H0V0z\" fill=\"none\"/>\n",
              "    <path d=\"M18.56 5.44l.94 2.06.94-2.06 2.06-.94-2.06-.94-.94-2.06-.94 2.06-2.06.94zm-11 1L8.5 8.5l.94-2.06 2.06-.94-2.06-.94L8.5 2.5l-.94 2.06-2.06.94zm10 10l.94 2.06.94-2.06 2.06-.94-2.06-.94-.94-2.06-.94 2.06-2.06.94z\"/><path d=\"M17.41 7.96l-1.37-1.37c-.4-.4-.92-.59-1.43-.59-.52 0-1.04.2-1.43.59L10.3 9.45l-7.72 7.72c-.78.78-.78 2.05 0 2.83L4 21.41c.39.39.9.59 1.41.59.51 0 1.02-.2 1.41-.59l7.78-7.78 2.81-2.81c.8-.78.8-2.07 0-2.86zM5.41 20L4 18.59l7.72-7.72 1.47 1.35L5.41 20z\"/>\n",
              "  </svg>\n",
              "      </button>\n",
              "      \n",
              "  <style>\n",
              "    .colab-df-container {\n",
              "      display:flex;\n",
              "      flex-wrap:wrap;\n",
              "      gap: 12px;\n",
              "    }\n",
              "\n",
              "    .colab-df-convert {\n",
              "      background-color: #E8F0FE;\n",
              "      border: none;\n",
              "      border-radius: 50%;\n",
              "      cursor: pointer;\n",
              "      display: none;\n",
              "      fill: #1967D2;\n",
              "      height: 32px;\n",
              "      padding: 0 0 0 0;\n",
              "      width: 32px;\n",
              "    }\n",
              "\n",
              "    .colab-df-convert:hover {\n",
              "      background-color: #E2EBFA;\n",
              "      box-shadow: 0px 1px 2px rgba(60, 64, 67, 0.3), 0px 1px 3px 1px rgba(60, 64, 67, 0.15);\n",
              "      fill: #174EA6;\n",
              "    }\n",
              "\n",
              "    [theme=dark] .colab-df-convert {\n",
              "      background-color: #3B4455;\n",
              "      fill: #D2E3FC;\n",
              "    }\n",
              "\n",
              "    [theme=dark] .colab-df-convert:hover {\n",
              "      background-color: #434B5C;\n",
              "      box-shadow: 0px 1px 3px 1px rgba(0, 0, 0, 0.15);\n",
              "      filter: drop-shadow(0px 1px 2px rgba(0, 0, 0, 0.3));\n",
              "      fill: #FFFFFF;\n",
              "    }\n",
              "  </style>\n",
              "\n",
              "      <script>\n",
              "        const buttonEl =\n",
              "          document.querySelector('#df-b2b70d47-9cb8-4b52-a235-705dad76aa70 button.colab-df-convert');\n",
              "        buttonEl.style.display =\n",
              "          google.colab.kernel.accessAllowed ? 'block' : 'none';\n",
              "\n",
              "        async function convertToInteractive(key) {\n",
              "          const element = document.querySelector('#df-b2b70d47-9cb8-4b52-a235-705dad76aa70');\n",
              "          const dataTable =\n",
              "            await google.colab.kernel.invokeFunction('convertToInteractive',\n",
              "                                                     [key], {});\n",
              "          if (!dataTable) return;\n",
              "\n",
              "          const docLinkHtml = 'Like what you see? Visit the ' +\n",
              "            '<a target=\"_blank\" href=https://colab.research.google.com/notebooks/data_table.ipynb>data table notebook</a>'\n",
              "            + ' to learn more about interactive tables.';\n",
              "          element.innerHTML = '';\n",
              "          dataTable['output_type'] = 'display_data';\n",
              "          await google.colab.output.renderOutput(dataTable, element);\n",
              "          const docLink = document.createElement('div');\n",
              "          docLink.innerHTML = docLinkHtml;\n",
              "          element.appendChild(docLink);\n",
              "        }\n",
              "      </script>\n",
              "    </div>\n",
              "  </div>\n",
              "  "
            ]
          },
          "metadata": {},
          "execution_count": 12
        }
      ]
    },
    {
      "cell_type": "code",
      "source": [
        "data.groupby('year').mean()['wheat_price'].plot()"
      ],
      "metadata": {
        "colab": {
          "base_uri": "https://localhost:8080/",
          "height": 296
        },
        "id": "RU9XwIhtBEp6",
        "outputId": "25f11106-7dc2-47f0-ecc7-0a885794518e"
      },
      "execution_count": 13,
      "outputs": [
        {
          "output_type": "execute_result",
          "data": {
            "text/plain": [
              "<matplotlib.axes._subplots.AxesSubplot at 0x7f6293dae510>"
            ]
          },
          "metadata": {},
          "execution_count": 13
        },
        {
          "output_type": "display_data",
          "data": {
            "text/plain": [
              "<Figure size 432x288 with 1 Axes>"
            ],
            "image/png": "[encoded data removed]"
          },
          "metadata": {
            "needs_background": "light"
          }
        }
      ]
    },
    {
      "cell_type": "code",
      "source": [
        "import matplotlib.pyplot as plt\n",
        "import seaborn as sns\n",
        "\n",
        "plt.figure(figsize=(12,8))\n",
        "sns.distplot(data['wheat_price'])\n"
      ],
      "metadata": {
        "colab": {
          "base_uri": "https://localhost:8080/",
          "height": 570
        },
        "id": "9mOCCA-DASe5",
        "outputId": "34d24592-37fe-4b46-f8ba-b6958e8ad8de"
      },
      "execution_count": 14,
      "outputs": [
        {
          "output_type": "stream",
          "name": "stderr",
          "text": [
            "/usr/local/lib/python3.7/dist-packages/seaborn/distributions.py:2619: FutureWarning: `distplot` is a deprecated function and will be removed in a future version. Please adapt your code to use either `displot` (a figure-level function with similar flexibility) or `histplot` (an axes-level function for histograms).\n",
            "  warnings.warn(msg, FutureWarning)\n"
          ]
        },
        {
          "output_type": "execute_result",
          "data": {
            "text/plain": [
              "<matplotlib.axes._subplots.AxesSubplot at 0x7f6293da4410>"
            ]
          },
          "metadata": {},
          "execution_count": 14
        },
        {
          "output_type": "display_data",
          "data": {
            "text/plain": [
              "<Figure size 864x576 with 1 Axes>"
            ],
            "image/png": "[encoded data removed]"
          },
          "metadata": {
            "needs_background": "light"
          }
        }
      ]
    },
    {
      "cell_type": "code",
      "source": [
        "sns.heatmap(data.corr())"
      ],
      "metadata": {
        "colab": {
          "base_uri": "https://localhost:8080/",
          "height": 385
        },
        "id": "Jvt39R9lByUU",
        "outputId": "e6bad980-343f-4dc4-a252-153682350917"
      },
      "execution_count": 15,
      "outputs": [
        {
          "output_type": "execute_result",
          "data": {
            "text/plain": [
              "<matplotlib.axes._subplots.AxesSubplot at 0x7f6296611050>"
            ]
          },
          "metadata": {},
          "execution_count": 15
        },
        {
          "output_type": "display_data",
          "data": {
            "text/plain": [
              "<Figure size 432x288 with 2 Axes>"
            ],
            "image/png": "[encoded data removed]"
          },
          "metadata": {
            "needs_background": "light"
          }
        }
      ]
    },
    {
      "cell_type": "code",
      "source": [
        "import numpy as np\n",
        "import matplotlib.pyplot as plt"
      ],
      "metadata": {
        "id": "KR0Rb19oJ-s1"
      },
      "execution_count": 16,
      "outputs": []
    },
    {
      "cell_type": "code",
      "source": [
        "type(data)"
      ],
      "metadata": {
        "colab": {
          "base_uri": "https://localhost:8080/"
        },
        "id": "cAUKASRyJ9Lw",
        "outputId": "e99676a8-2737-4ddb-9ee1-5a94d472cc90"
      },
      "execution_count": 17,
      "outputs": [
        {
          "output_type": "execute_result",
          "data": {
            "text/plain": [
              "pandas.core.frame.DataFrame"
            ]
          },
          "metadata": {},
          "execution_count": 17
        }
      ]
    },
    {
      "cell_type": "code",
      "source": [
        "data.dtypes\n"
      ],
      "metadata": {
        "colab": {
          "base_uri": "https://localhost:8080/"
        },
        "id": "vQlLn47uK8ql",
        "outputId": "bf946ef4-500a-4ab6-c90c-0ac2c2c0f5ac"
      },
      "execution_count": 18,
      "outputs": [
        {
          "output_type": "execute_result",
          "data": {
            "text/plain": [
              "year                     int64\n",
              "average_temperature    float64\n",
              "rainfall               float64\n",
              "crude_oil_price        float64\n",
              "wheat_production         int64\n",
              "inflation              float64\n",
              "wheat_price              int64\n",
              "dtype: object"
            ]
          },
          "metadata": {},
          "execution_count": 18
        }
      ]
    },
    {
      "cell_type": "code",
      "source": [
        "numeric_feature_names=['year','average_temperature','rainfall','crude_oil_price','wheat_production','inflation','wheat_price']\n",
        "numeric_features = data[numeric_feature_names]\n",
        "numeric_features.head()\n",
        "X_df = data.drop(columns=['year','wheat_price'],axis = 1)\n",
        "y_df = data['wheat_price']\n",
        "\n",
        "X_df.head(), y_df.head()"
      ],
      "metadata": {
        "colab": {
          "base_uri": "https://localhost:8080/"
        },
        "id": "e9Tq_Ll_MmVL",
        "outputId": "c1e30400-5700-4184-ce47-2d6eccc100f8"
      },
      "execution_count": 19,
      "outputs": [
        {
          "output_type": "execute_result",
          "data": {
            "text/plain": [
              "(   average_temperature  rainfall  crude_oil_price  wheat_production  inflation\n",
              " 0                24.19   1187.06            14.42             66350      13.23\n",
              " 1                24.94   1062.54            19.35             71288       4.67\n",
              " 2                24.82   1041.99            30.38             76369       4.01\n",
              " 3                24.71   1024.41            25.98             69681       3.78\n",
              " 4                25.09    908.10            26.19             72766       4.30,\n",
              " 0    475\n",
              " 1    510\n",
              " 2    550\n",
              " 3    580\n",
              " 4    610\n",
              " Name: wheat_price, dtype: int64)"
            ]
          },
          "metadata": {},
          "execution_count": 19
        }
      ]
    },
    {
      "cell_type": "code",
      "source": [
        "tf_data = tf.convert_to_tensor(numeric_features)\n",
        "X = tf.convert_to_tensor(X_df,dtype=tf.float32)\n",
        "y= tf.expand_dims(tf.convert_to_tensor(y_df,dtype=tf.float32),axis=1)\n",
        "\n",
        "X.shape, y.shape"
      ],
      "metadata": {
        "colab": {
          "base_uri": "https://localhost:8080/"
        },
        "id": "ythZA6WDQ8br",
        "outputId": "496bcf69-9717-4c18-967a-2fe0190ba08b"
      },
      "execution_count": 20,
      "outputs": [
        {
          "output_type": "execute_result",
          "data": {
            "text/plain": [
              "(TensorShape([24, 5]), TensorShape([24, 1]))"
            ]
          },
          "metadata": {},
          "execution_count": 20
        }
      ]
    },
    {
      "cell_type": "code",
      "source": [
        "from sklearn.model_selection import train_test_split\n",
        "\n",
        "X_train,X_test, y_train,y_test = train_test_split(X_df,y_df,test_size=0.2,random_state=42)\n",
        "len(X_df),len(X_train), len(y_df), len(y_train)"
      ],
      "metadata": {
        "colab": {
          "base_uri": "https://localhost:8080/"
        },
        "id": "x-K_EFqqRFNT",
        "outputId": "fea501e5-723d-4004-e99e-4f775ae258c2"
      },
      "execution_count": 21,
      "outputs": [
        {
          "output_type": "execute_result",
          "data": {
            "text/plain": [
              "(24, 19, 24, 19)"
            ]
          },
          "metadata": {},
          "execution_count": 21
        }
      ]
    },
    {
      "cell_type": "code",
      "source": [
        "from sklearn.compose import make_column_transformer\n",
        "from sklearn.preprocessing import MinMaxScaler\n",
        "\n",
        "ct = make_column_transformer(\n",
        "    (MinMaxScaler(), ['average_temperature','rainfall','crude_oil_price','wheat_production','inflation'])\n",
        ")\n",
        "\n",
        "X_df = data.drop(columns=['year','wheat_price'],axis=1)\n",
        "y_df = data['wheat_price']\n",
        "\n",
        "X_train,X_test, y_train,y_test = train_test_split(X_df,y_df,test_size=0.2,random_state=42)\n",
        "len(X_df),len(X_train), len(y_df), len(y_train)\n",
        "\n",
        "ct.fit(X_train)\n",
        "\n",
        "X_train_normal = ct.transform(X_train)\n",
        "X_test_normal = ct.transform(X_test)\n",
        "\n",
        "\n"
      ],
      "metadata": {
        "id": "OMCLlypHkvJm"
      },
      "execution_count": 22,
      "outputs": []
    },
    {
      "cell_type": "code",
      "source": [
        "y_train.values"
      ],
      "metadata": {
        "colab": {
          "base_uri": "https://localhost:8080/"
        },
        "id": "qPHYjoAsDRS5",
        "outputId": "6647622f-afa4-406c-84cb-2ba21f6e05b1"
      },
      "execution_count": 32,
      "outputs": [
        {
          "output_type": "execute_result",
          "data": {
            "text/plain": [
              "array([ 850, 1170,  510, 1840,  620,  550, 1100, 1350,  580,  610, 1925,\n",
              "       1450, 1735, 1975,  630, 1000, 1285, 1625,  620])"
            ]
          },
          "metadata": {},
          "execution_count": 32
        }
      ]
    },
    {
      "cell_type": "code",
      "source": [
        "price_model_1 = tf.keras.Sequential([\n",
        "    tf.keras.layers.Dense(100),\n",
        "    tf.keras.layers.Dense(100,activation='relu'),\n",
        "    tf.keras.layers.Dense(50,activation='relu'),\n",
        "    tf.keras.layers.Dense(25,activation='relu'),\n",
        "    tf.keras.layers.Dense(10,activation='relu'),\n",
        "    tf.keras.layers.Dense(1)\n",
        "])\n",
        "price_model_1.compile(loss=tf.keras.losses.mae,optimizer=tf.keras.optimizers.Adam())\n",
        "price_model_1.fit(X_train_normal,y_train,validation_data=(X_test_normal,y_test),epochs=1000,verbose=0)"
      ],
      "metadata": {
        "colab": {
          "base_uri": "https://localhost:8080/"
        },
        "id": "zyczNoCGxZEm",
        "outputId": "d9f97842-d3f0-4fe4-ef2c-2784576fe866"
      },
      "execution_count": 44,
      "outputs": [
        {
          "output_type": "execute_result",
          "data": {
            "text/plain": [
              "<keras.callbacks.History at 0x7f6288339bd0>"
            ]
          },
          "metadata": {},
          "execution_count": 44
        }
      ]
    },
    {
      "cell_type": "code",
      "source": [
        "pd.DataFrame(price_model_1.history.history).plot()"
      ],
      "metadata": {
        "colab": {
          "base_uri": "https://localhost:8080/",
          "height": 282
        },
        "id": "TrRcVKLI2kWh",
        "outputId": "0f8aec6d-90a0-4933-f1d6-ee09b86294f3"
      },
      "execution_count": 45,
      "outputs": [
        {
          "output_type": "execute_result",
          "data": {
            "text/plain": [
              "<matplotlib.axes._subplots.AxesSubplot at 0x7f628831b710>"
            ]
          },
          "metadata": {},
          "execution_count": 45
        },
        {
          "output_type": "display_data",
          "data": {
            "text/plain": [
              "<Figure size 432x288 with 1 Axes>"
            ],
            "image/png": "[encoded data removed]"
          },
          "metadata": {
            "needs_background": "light"
          }
        }
      ]
    },
    {
      "cell_type": "code",
      "source": [
        "price_model_1.evaluate(X_test_normal,y_test)"
      ],
      "metadata": {
        "colab": {
          "base_uri": "https://localhost:8080/"
        },
        "id": "PX8EVb0438V7",
        "outputId": "0fc7870d-af47-4782-e815-add5c05aa5cb"
      },
      "execution_count": 46,
      "outputs": [
        {
          "output_type": "stream",
          "name": "stdout",
          "text": [
            "1/1 [==============================] - 0s 29ms/step - loss: 126.0866\n"
          ]
        },
        {
          "output_type": "execute_result",
          "data": {
            "text/plain": [
              "126.0866470336914"
            ]
          },
          "metadata": {},
          "execution_count": 46
        }
      ]
    },
    {
      "cell_type": "code",
      "source": [
        "predictions = price_model_1.predict(X_test_normal)\n",
        "predictions"
      ],
      "metadata": {
        "colab": {
          "base_uri": "https://localhost:8080/"
        },
        "id": "ZIltfBufE5B4",
        "outputId": "b86dfbd6-7a39-49eb-da8b-098e3c568ccd"
      },
      "execution_count": 47,
      "outputs": [
        {
          "output_type": "stream",
          "name": "stderr",
          "text": [
            "WARNING:tensorflow:5 out of the last 5 calls to <function Model.make_predict_function.<locals>.predict_function at 0x7f629934d950> triggered tf.function retracing. Tracing is expensive and the excessive number of tracings could be due to (1) creating @tf.function repeatedly in a loop, (2) passing tensors with different shapes, (3) passing Python objects instead of tensors. For (1), please define your @tf.function outside of the loop. For (2), @tf.function has reduce_retracing=True option that can avoid unnecessary retracing. For (3), please refer to https://www.tensorflow.org/guide/function#controlling_retracing and https://www.tensorflow.org/api_docs/python/tf/function for  more details.\n"
          ]
        },
        {
          "output_type": "stream",
          "name": "stdout",
          "text": [
            "1/1 [==============================] - 0s 73ms/step\n"
          ]
        },
        {
          "output_type": "execute_result",
          "data": {
            "text/plain": [
              "array([[ 726.46674],\n",
              "       [1393.5956 ],\n",
              "       [ 418.547  ],\n",
              "       [1233.1786 ],\n",
              "       [ 890.71234]], dtype=float32)"
            ]
          },
          "metadata": {},
          "execution_count": 47
        }
      ]
    },
    {
      "cell_type": "code",
      "source": [
        "from sklearn.metrics import mean_squared_error,mean_absolute_error,explained_variance_score\n",
        "\n",
        "mean_absolute_error(y_test,predictions)"
      ],
      "metadata": {
        "colab": {
          "base_uri": "https://localhost:8080/"
        },
        "id": "gTe0-cvJFb14",
        "outputId": "35ab6865-ee1a-4163-9a2a-36a22005bc9e"
      },
      "execution_count": 48,
      "outputs": [
        {
          "output_type": "execute_result",
          "data": {
            "text/plain": [
              "126.0866455078125"
            ]
          },
          "metadata": {},
          "execution_count": 48
        }
      ]
    },
    {
      "cell_type": "code",
      "source": [
        "explained_variance_score(y_test,predictions)"
      ],
      "metadata": {
        "colab": {
          "base_uri": "https://localhost:8080/"
        },
        "id": "unoljHM5Fk23",
        "outputId": "e309a3b3-036b-41ca-f76b-9aa6b6b4b112"
      },
      "execution_count": 49,
      "outputs": [
        {
          "output_type": "execute_result",
          "data": {
            "text/plain": [
              "0.893609670008709"
            ]
          },
          "metadata": {},
          "execution_count": 49
        }
      ]
    },
    {
      "cell_type": "code",
      "source": [
        "plt.scatter(y_test,predictions)\n",
        "\n",
        "# Perfect predictions\n",
        "plt.plot(y_test,y_test,'r')"
      ],
      "metadata": {
        "colab": {
          "base_uri": "https://localhost:8080/",
          "height": 282
        },
        "id": "PARq3IZYFyV6",
        "outputId": "e1aae506-e522-408c-8582-29043fd3917e"
      },
      "execution_count": 50,
      "outputs": [
        {
          "output_type": "execute_result",
          "data": {
            "text/plain": [
              "[<matplotlib.lines.Line2D at 0x7f628eb6e790>]"
            ]
          },
          "metadata": {},
          "execution_count": 50
        },
        {
          "output_type": "display_data",
          "data": {
            "text/plain": [
              "<Figure size 432x288 with 1 Axes>"
            ],
            "image/png": "[encoded data removed]"
          },
          "metadata": {
            "needs_background": "light"
          }
        }
      ]
    },
    {
      "cell_type": "code",
      "source": [
        "price_model_1.save('wheat_price_model.h5')"
      ],
      "metadata": {
        "id": "pZlPpCANztG0"
      },
      "execution_count": 51,
      "outputs": []
    },
    {
      "cell_type": "code",
      "source": [
        "X_test_normal\n",
        "price_model_1.predict(tf.expand_dims(X_test_normal[0],axis=0))"
      ],
      "metadata": {
        "colab": {
          "base_uri": "https://localhost:8080/"
        },
        "id": "9TjI0AMb1pnV",
        "outputId": "fc437f98-b879-4438-c85b-45680dd49244"
      },
      "execution_count": 52,
      "outputs": [
        {
          "output_type": "stream",
          "name": "stderr",
          "text": [
            "WARNING:tensorflow:6 out of the last 6 calls to <function Model.make_predict_function.<locals>.predict_function at 0x7f629934d950> triggered tf.function retracing. Tracing is expensive and the excessive number of tracings could be due to (1) creating @tf.function repeatedly in a loop, (2) passing tensors with different shapes, (3) passing Python objects instead of tensors. For (1), please define your @tf.function outside of the loop. For (2), @tf.function has reduce_retracing=True option that can avoid unnecessary retracing. For (3), please refer to https://www.tensorflow.org/guide/function#controlling_retracing and https://www.tensorflow.org/api_docs/python/tf/function for  more details.\n"
          ]
        },
        {
          "output_type": "stream",
          "name": "stdout",
          "text": [
            "1/1 [==============================] - 0s 77ms/step\n"
          ]
        },
        {
          "output_type": "execute_result",
          "data": {
            "text/plain": [
              "array([[726.46655]], dtype=float32)"
            ]
          },
          "metadata": {},
          "execution_count": 52
        }
      ]
    },
    {
      "cell_type": "code",
      "source": [
        "X_test.loc[0], y_test[0]"
      ],
      "metadata": {
        "colab": {
          "base_uri": "https://localhost:8080/"
        },
        "id": "QLvHvIPH6lHZ",
        "outputId": "f41dc257-ad2e-4bc4-9b60-0b33185de764"
      },
      "execution_count": 53,
      "outputs": [
        {
          "output_type": "execute_result",
          "data": {
            "text/plain": [
              "(average_temperature       24.19\n",
              " rainfall                1187.06\n",
              " crude_oil_price           14.42\n",
              " wheat_production       66350.00\n",
              " inflation                 13.23\n",
              " Name: 0, dtype: float64, 475)"
            ]
          },
          "metadata": {},
          "execution_count": 53
        }
      ]
    },
    {
      "cell_type": "code",
      "source": [
        "predict_df = pd.DataFrame({'average_temperature':[24.19],'rainfall':[1187.06],'crude_oil_price':[14.42],'wheat_production':[66350.00],'inflation':[13.23]})\n",
        "predict_df\n",
        "\n",
        "predictData_normal= ct.transform(predict_df)\n",
        "predictData_normal\n",
        "price_model_1.predict(predictData_normal)[0][0]"
      ],
      "metadata": {
        "colab": {
          "base_uri": "https://localhost:8080/"
        },
        "id": "WGJswUAe7MFV",
        "outputId": "2a0adfd7-7b1d-4e99-da1e-3128693d3a06"
      },
      "execution_count": 54,
      "outputs": [
        {
          "output_type": "stream",
          "name": "stdout",
          "text": [
            "1/1 [==============================] - 0s 18ms/step\n"
          ]
        },
        {
          "output_type": "execute_result",
          "data": {
            "text/plain": [
              "418.547"
            ]
          },
          "metadata": {},
          "execution_count": 54
        }
      ]
    }
  ]
}
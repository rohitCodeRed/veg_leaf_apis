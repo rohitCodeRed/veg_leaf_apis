{
  "nbformat": 4,
  "nbformat_minor": 0,
  "metadata": {
    "colab": {
      "provenance": [],
      "collapsed_sections": []
    },
    "kernelspec": {
      "name": "python3",
      "display_name": "Python 3"
    },
    "language_info": {
      "name": "python"
    }
  },
  "cells": [
    {
      "cell_type": "code",
      "execution_count": 3,
      "metadata": {
        "colab": {
          "base_uri": "https://localhost:8080/"
        },
        "id": "P8WmvR1VxDHW",
        "outputId": "451e7f63-e841-4093-e3b6-02a8cff637fb"
      },
      "outputs": [
        {
          "output_type": "execute_result",
          "data": {
            "text/plain": [
              "(24, 7)"
            ]
          },
          "metadata": {},
          "execution_count": 3
        }
      ],
      "source": [
        "import tensorflow as tf\n",
        "import pandas as pd\n",
        "\n",
        "csv_path='/content/wheat_price.csv'\n",
        "\n",
        "data = pd.read_csv(csv_path)\n",
        "data.shape"
      ]
    },
    {
      "cell_type": "code",
      "source": [
        "import numpy as np\n",
        "import matplotlib.pyplot as plt"
      ],
      "metadata": {
        "id": "KR0Rb19oJ-s1"
      },
      "execution_count": 4,
      "outputs": []
    },
    {
      "cell_type": "code",
      "source": [
        "type(data)"
      ],
      "metadata": {
        "colab": {
          "base_uri": "https://localhost:8080/"
        },
        "id": "cAUKASRyJ9Lw",
        "outputId": "e325b501-6808-475b-8ede-705362b2e0e5"
      },
      "execution_count": 5,
      "outputs": [
        {
          "output_type": "execute_result",
          "data": {
            "text/plain": [
              "pandas.core.frame.DataFrame"
            ]
          },
          "metadata": {},
          "execution_count": 5
        }
      ]
    },
    {
      "cell_type": "code",
      "source": [
        "data.dtypes\n"
      ],
      "metadata": {
        "colab": {
          "base_uri": "https://localhost:8080/"
        },
        "id": "vQlLn47uK8ql",
        "outputId": "2a31445f-26b4-4662-bd92-57a592ccf6c3"
      },
      "execution_count": 6,
      "outputs": [
        {
          "output_type": "execute_result",
          "data": {
            "text/plain": [
              "year                     int64\n",
              "average_temperature    float64\n",
              "rainfall               float64\n",
              "crude_oil_price        float64\n",
              "wheat_production         int64\n",
              "inflation              float64\n",
              "wheat_price              int64\n",
              "dtype: object"
            ]
          },
          "metadata": {},
          "execution_count": 6
        }
      ]
    },
    {
      "cell_type": "code",
      "source": [
        "numeric_feature_names=['year','average_temperature','rainfall','crude_oil_price','wheat_production','inflation','wheat_price']\n",
        "numeric_features = data[numeric_feature_names]\n",
        "numeric_features.head()\n",
        "X_df = data.drop(columns=['year','wheat_price'],axis = 1)\n",
        "y_df = data['wheat_price']\n",
        "\n",
        "X_df.head(), y_df.head()"
      ],
      "metadata": {
        "colab": {
          "base_uri": "https://localhost:8080/"
        },
        "id": "e9Tq_Ll_MmVL",
        "outputId": "50140884-d463-4036-82a5-1833ab64b513"
      },
      "execution_count": 7,
      "outputs": [
        {
          "output_type": "execute_result",
          "data": {
            "text/plain": [
              "(   average_temperature  rainfall  crude_oil_price  wheat_production  inflation\n",
              " 0                24.19   1187.06            14.42             66350      13.23\n",
              " 1                24.94   1062.54            19.35             71288       4.67\n",
              " 2                24.82   1041.99            30.38             76369       4.01\n",
              " 3                24.71   1024.41            25.98             69681       3.78\n",
              " 4                25.09    908.10            26.19             72766       4.30,\n",
              " 0    475\n",
              " 1    510\n",
              " 2    550\n",
              " 3    580\n",
              " 4    610\n",
              " Name: wheat_price, dtype: int64)"
            ]
          },
          "metadata": {},
          "execution_count": 7
        }
      ]
    },
    {
      "cell_type": "code",
      "source": [
        "tf_data = tf.convert_to_tensor(numeric_features)\n",
        "X = tf.convert_to_tensor(X_df,dtype=tf.float32)\n",
        "y= tf.expand_dims(tf.convert_to_tensor(y_df,dtype=tf.float32),axis=1)\n",
        "\n",
        "X.shape, y.shape"
      ],
      "metadata": {
        "colab": {
          "base_uri": "https://localhost:8080/"
        },
        "id": "ythZA6WDQ8br",
        "outputId": "f3ed2953-0bd2-4496-ccb4-5251bec939e8"
      },
      "execution_count": 8,
      "outputs": [
        {
          "output_type": "execute_result",
          "data": {
            "text/plain": [
              "(TensorShape([24, 5]), TensorShape([24, 1]))"
            ]
          },
          "metadata": {},
          "execution_count": 8
        }
      ]
    },
    {
      "cell_type": "code",
      "source": [
        "from sklearn.model_selection import train_test_split\n",
        "\n",
        "X_train,X_test, y_train,y_test = train_test_split(X_df,y_df,test_size=0.2,random_state=42)\n",
        "len(X_df),len(X_train), len(y_df), len(y_train)"
      ],
      "metadata": {
        "colab": {
          "base_uri": "https://localhost:8080/"
        },
        "id": "x-K_EFqqRFNT",
        "outputId": "d2879102-1c8a-4054-92ef-9001d83a09fc"
      },
      "execution_count": 9,
      "outputs": [
        {
          "output_type": "execute_result",
          "data": {
            "text/plain": [
              "(24, 19, 24, 19)"
            ]
          },
          "metadata": {},
          "execution_count": 9
        }
      ]
    },
    {
      "cell_type": "code",
      "source": [
        "from sklearn.compose import make_column_transformer\n",
        "from sklearn.preprocessing import MinMaxScaler\n",
        "\n",
        "ct = make_column_transformer(\n",
        "    (MinMaxScaler(), ['average_temperature','rainfall','crude_oil_price','wheat_production','inflation'])\n",
        ")\n",
        "\n",
        "X_df = data.drop(columns=['year','wheat_price'],axis=1)\n",
        "y_df = data['wheat_price']\n",
        "\n",
        "X_train,X_test, y_train,y_test = train_test_split(X_df,y_df,test_size=0.2,random_state=42)\n",
        "len(X_df),len(X_train), len(y_df), len(y_train)\n",
        "\n",
        "ct.fit(X_train)\n",
        "\n",
        "X_train_normal = ct.transform(X_train)\n",
        "X_test_normal = ct.transform(X_test)\n",
        "\n",
        "\n"
      ],
      "metadata": {
        "id": "OMCLlypHkvJm"
      },
      "execution_count": 10,
      "outputs": []
    },
    {
      "cell_type": "code",
      "source": [
        "price_model_1 = tf.keras.Sequential([\n",
        "    tf.keras.layers.Dense(100),\n",
        "    tf.keras.layers.Dense(100,activation='relu'),\n",
        "    tf.keras.layers.Dense(50,activation='relu'),\n",
        "    tf.keras.layers.Dense(25,activation='relu'),\n",
        "    tf.keras.layers.Dense(10,activation='relu'),\n",
        "    tf.keras.layers.Dense(1)\n",
        "])\n",
        "price_model_1.compile(loss=tf.keras.losses.mae,optimizer=tf.keras.optimizers.Adam(),\n",
        "                        metrics=['mae'])\n",
        "price_model_1.fit(X_train_normal,y_train,epochs=1000,verbose=0)"
      ],
      "metadata": {
        "colab": {
          "base_uri": "https://localhost:8080/"
        },
        "id": "zyczNoCGxZEm",
        "outputId": "172fd41e-8afd-43b1-9d4e-4271a0e2b8ba"
      },
      "execution_count": 20,
      "outputs": [
        {
          "output_type": "execute_result",
          "data": {
            "text/plain": [
              "<keras.callbacks.History at 0x7fb20663ead0>"
            ]
          },
          "metadata": {},
          "execution_count": 20
        }
      ]
    },
    {
      "cell_type": "code",
      "source": [
        "pd.DataFrame(price_model_1.history.history).plot()"
      ],
      "metadata": {
        "colab": {
          "base_uri": "https://localhost:8080/",
          "height": 282
        },
        "id": "TrRcVKLI2kWh",
        "outputId": "08b39365-740b-4832-d108-61706e36a8cd"
      },
      "execution_count": 21,
      "outputs": [
        {
          "output_type": "execute_result",
          "data": {
            "text/plain": [
              "<matplotlib.axes._subplots.AxesSubplot at 0x7fb206507e50>"
            ]
          },
          "metadata": {},
          "execution_count": 21
        },
        {
          "output_type": "display_data",
          "data": {
            "text/plain": [
              "<Figure size 432x288 with 1 Axes>"
            ],
            "image/png": "[encoded data removed]"
          },
          "metadata": {
            "needs_background": "light"
          }
        }
      ]
    },
    {
      "cell_type": "code",
      "source": [
        "price_model_1.evaluate(X_test_normal,y_test)"
      ],
      "metadata": {
        "colab": {
          "base_uri": "https://localhost:8080/"
        },
        "id": "PX8EVb0438V7",
        "outputId": "cce24075-b8c0-47cf-83d8-7f9a035e9266"
      },
      "execution_count": 22,
      "outputs": [
        {
          "output_type": "stream",
          "name": "stdout",
          "text": [
            "1/1 [==============================] - 0s 137ms/step - loss: 121.9183 - mae: 121.9183\n"
          ]
        },
        {
          "output_type": "execute_result",
          "data": {
            "text/plain": [
              "[121.91828918457031, 121.91828918457031]"
            ]
          },
          "metadata": {},
          "execution_count": 22
        }
      ]
    },
    {
      "cell_type": "code",
      "source": [
        "price_model_1.save('wheat_price_model.h5')"
      ],
      "metadata": {
        "id": "pZlPpCANztG0"
      },
      "execution_count": 14,
      "outputs": []
    },
    {
      "cell_type": "code",
      "source": [
        "X_test_normal\n",
        "price_model_1.predict(tf.expand_dims(X_test_normal[0],axis=0))"
      ],
      "metadata": {
        "colab": {
          "base_uri": "https://localhost:8080/"
        },
        "id": "9TjI0AMb1pnV",
        "outputId": "2ad4293c-ec9e-4a74-80b4-afdda5304dc0"
      },
      "execution_count": 32,
      "outputs": [
        {
          "output_type": "stream",
          "name": "stdout",
          "text": [
            "1/1 [==============================] - 0s 73ms/step\n"
          ]
        },
        {
          "output_type": "execute_result",
          "data": {
            "text/plain": [
              "array([[731.45123]], dtype=float32)"
            ]
          },
          "metadata": {},
          "execution_count": 32
        }
      ]
    },
    {
      "cell_type": "code",
      "source": [
        "X_test.loc[0], y_test[0]"
      ],
      "metadata": {
        "colab": {
          "base_uri": "https://localhost:8080/"
        },
        "id": "QLvHvIPH6lHZ",
        "outputId": "a7c07f87-6969-4203-ea24-d276bea628de"
      },
      "execution_count": 35,
      "outputs": [
        {
          "output_type": "execute_result",
          "data": {
            "text/plain": [
              "(average_temperature       24.19\n",
              " rainfall                1187.06\n",
              " crude_oil_price           14.42\n",
              " wheat_production       66350.00\n",
              " inflation                 13.23\n",
              " Name: 0, dtype: float64, 475)"
            ]
          },
          "metadata": {},
          "execution_count": 35
        }
      ]
    },
    {
      "cell_type": "code",
      "source": [
        "predict_df = pd.DataFrame({'average_temperature':[24.19],'rainfall':[1187.06],'crude_oil_price':[14.42],'wheat_production':[66350.00],'inflation':[13.23]})\n",
        "predict_df\n",
        "\n",
        "predictData_normal= ct.transform(predict_df)\n",
        "predictData_normal\n",
        "price_model_1.predict(predictData_normal)"
      ],
      "metadata": {
        "colab": {
          "base_uri": "https://localhost:8080/"
        },
        "id": "WGJswUAe7MFV",
        "outputId": "42521808-fe16-4ebe-d196-69b92102bd98"
      },
      "execution_count": 47,
      "outputs": [
        {
          "output_type": "stream",
          "name": "stdout",
          "text": [
            "1/1 [==============================] - 0s 22ms/step\n"
          ]
        },
        {
          "output_type": "execute_result",
          "data": {
            "text/plain": [
              "array([[431.30524]], dtype=float32)"
            ]
          },
          "metadata": {},
          "execution_count": 47
        }
      ]
    }
  ]
}